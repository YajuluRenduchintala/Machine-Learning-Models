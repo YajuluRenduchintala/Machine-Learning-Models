{
 "cells": [
  {
   "attachments": {},
   "cell_type": "markdown",
   "metadata": {},
   "source": [
    "Importing Libraries"
   ]
  },
  {
   "cell_type": "code",
   "execution_count": 1,
   "metadata": {},
   "outputs": [],
   "source": [
    "import numpy as np\n",
    "import matplotlib.pyplot as plt\n",
    "import pandas as pd"
   ]
  },
  {
   "attachments": {},
   "cell_type": "markdown",
   "metadata": {},
   "source": [
    "Importing Dataset"
   ]
  },
  {
   "cell_type": "code",
   "execution_count": 2,
   "metadata": {},
   "outputs": [],
   "source": [
    "data_set=pd.read_csv(r'C:\\Users\\agnih\\Desktop\\ML\\Data.csv')\n",
    "x=data_set.iloc[:,:-1]\n",
    "y=data_set.iloc[:,-1]"
   ]
  },
  {
   "cell_type": "code",
   "execution_count": 3,
   "metadata": {},
   "outputs": [
    {
     "name": "stdout",
     "output_type": "stream",
     "text": [
      "   Country   Age   Salary\n",
      "0   France  44.0  72000.0\n",
      "1    Spain  27.0  48000.0\n",
      "2  Germany  30.0  54000.0\n",
      "3    Spain  38.0  61000.0\n",
      "4  Germany  40.0      NaN\n",
      "5   France  35.0  58000.0\n",
      "6    Spain   NaN  52000.0\n",
      "7   France  48.0  79000.0\n",
      "8  Germany  50.0  83000.0\n",
      "9   France  37.0  67000.0\n"
     ]
    }
   ],
   "source": [
    "print(x)"
   ]
  },
  {
   "cell_type": "code",
   "execution_count": 4,
   "metadata": {},
   "outputs": [
    {
     "name": "stdout",
     "output_type": "stream",
     "text": [
      "0     No\n",
      "1    Yes\n",
      "2     No\n",
      "3     No\n",
      "4    Yes\n",
      "5    Yes\n",
      "6     No\n",
      "7    Yes\n",
      "8     No\n",
      "9    Yes\n",
      "Name: Purchased, dtype: object\n"
     ]
    }
   ],
   "source": [
    "print(y)"
   ]
  },
  {
   "cell_type": "code",
   "execution_count": 5,
   "metadata": {},
   "outputs": [
    {
     "name": "stdout",
     "output_type": "stream",
     "text": [
      "   Country        Age        Salary\n",
      "0   France  44.000000  72000.000000\n",
      "1    Spain  27.000000  48000.000000\n",
      "2  Germany  30.000000  54000.000000\n",
      "3    Spain  38.000000  61000.000000\n",
      "4  Germany  40.000000  63777.777778\n",
      "5   France  35.000000  58000.000000\n",
      "6    Spain  38.777778  52000.000000\n",
      "7   France  48.000000  79000.000000\n",
      "8  Germany  50.000000  83000.000000\n",
      "9   France  37.000000  67000.000000\n"
     ]
    }
   ],
   "source": [
    "from sklearn.impute import SimpleImputer\n",
    "imputer=SimpleImputer(missing_values=np.nan,strategy='mean')\n",
    "imputer.fit(x.iloc[:, 1:3])\n",
    "x.iloc[:, 1:3] = imputer.transform(x.iloc[: ,1:3])\n",
    "print(x)"
   ]
  },
  {
   "attachments": {},
   "cell_type": "markdown",
   "metadata": {},
   "source": [
    "Encoding Categorical Data\n",
    " Independent Variables"
   ]
  },
  {
   "cell_type": "code",
   "execution_count": 6,
   "metadata": {},
   "outputs": [
    {
     "name": "stdout",
     "output_type": "stream",
     "text": [
      "[['1.0' '0.0' '0.0' '44.0' '72000.0']\n",
      " ['0.0' '0.0' '1.0' '27.0' '48000.0']\n",
      " ['0.0' '1.0' '0.0' '30.0' '54000.0']\n",
      " ['0.0' '0.0' '1.0' '38.0' '61000.0']\n",
      " ['0.0' '1.0' '0.0' '40.0' '63777.77777777778']\n",
      " ['1.0' '0.0' '0.0' '35.0' '58000.0']\n",
      " ['0.0' '0.0' '1.0' '38.77777777777778' '52000.0']\n",
      " ['1.0' '0.0' '0.0' '48.0' '79000.0']\n",
      " ['0.0' '1.0' '0.0' '50.0' '83000.0']\n",
      " ['1.0' '0.0' '0.0' '37.0' '67000.0']]\n"
     ]
    },
    {
     "name": "stderr",
     "output_type": "stream",
     "text": [
      "C:\\Users\\agnih\\AppData\\Local\\Temp\\ipykernel_6912\\3688089065.py:6: DeprecationWarning: `np.str` is a deprecated alias for the builtin `str`. To silence this warning, use `str` by itself. Doing this will not modify any behavior and is safe. If you specifically wanted the numpy scalar type, use `np.str_` here.\n",
      "Deprecated in NumPy 1.20; for more details and guidance: https://numpy.org/devdocs/release/1.20.0-notes.html#deprecations\n",
      "  x = np.array(ct.fit_transform(x), dtype = np.str)\n"
     ]
    }
   ],
   "source": [
    "#Encoding using OneHotEncoder\n",
    "from sklearn.compose import ColumnTransformer\n",
    "from sklearn.preprocessing import OneHotEncoder\n",
    "oHe=OneHotEncoder()\n",
    "ct=ColumnTransformer(transformers=[('encoder',oHe,[0])],remainder='passthrough') #0 indicates Column Index\n",
    "x = np.array(ct.fit_transform(x), dtype = np.str)\n",
    "print(x)"
   ]
  },
  {
   "cell_type": "code",
   "execution_count": 7,
   "metadata": {},
   "outputs": [],
   "source": [
    "#Encoding using Pandas \n",
    "#x=pd.get_dummies(x)\n",
    "#print(x)"
   ]
  },
  {
   "attachments": {},
   "cell_type": "markdown",
   "metadata": {},
   "source": [
    "Dependent Variable"
   ]
  },
  {
   "cell_type": "code",
   "execution_count": 8,
   "metadata": {},
   "outputs": [
    {
     "name": "stdout",
     "output_type": "stream",
     "text": [
      "[0 1 0 0 1 1 0 1 0 1]\n"
     ]
    }
   ],
   "source": [
    "from sklearn.preprocessing import LabelEncoder\n",
    "le=LabelEncoder()\n",
    "y=le.fit_transform(y)\n",
    "print(y)"
   ]
  },
  {
   "attachments": {},
   "cell_type": "markdown",
   "metadata": {},
   "source": [
    "Splitting Dataset into Training and Test Sets"
   ]
  },
  {
   "cell_type": "code",
   "execution_count": 9,
   "metadata": {},
   "outputs": [
    {
     "name": "stdout",
     "output_type": "stream",
     "text": [
      "[['0.0' '0.0' '1.0' '38.77777777777778' '52000.0']\n",
      " ['0.0' '1.0' '0.0' '40.0' '63777.77777777778']\n",
      " ['1.0' '0.0' '0.0' '44.0' '72000.0']\n",
      " ['0.0' '0.0' '1.0' '38.0' '61000.0']\n",
      " ['0.0' '0.0' '1.0' '27.0' '48000.0']\n",
      " ['1.0' '0.0' '0.0' '48.0' '79000.0']\n",
      " ['0.0' '1.0' '0.0' '50.0' '83000.0']\n",
      " ['1.0' '0.0' '0.0' '35.0' '58000.0']]\n",
      "[['0.0' '1.0' '0.0' '30.0' '54000.0']\n",
      " ['1.0' '0.0' '0.0' '37.0' '67000.0']]\n",
      "[0 1 0 0 1 1 0 1]\n",
      "[0 1]\n"
     ]
    }
   ],
   "source": [
    "from sklearn.model_selection import train_test_split\n",
    "X_train,X_test,y_train,y_test=train_test_split(x,y,test_size=0.2,random_state=1)\n",
    "print(X_train)\n",
    "print(X_test)\n",
    "print(y_train)\n",
    "print(y_test)"
   ]
  },
  {
   "attachments": {},
   "cell_type": "markdown",
   "metadata": {},
   "source": [
    "Feature Scaling"
   ]
  },
  {
   "cell_type": "code",
   "execution_count": 10,
   "metadata": {},
   "outputs": [
    {
     "name": "stdout",
     "output_type": "stream",
     "text": [
      "[['0.0' '-0.5773502691896258' '1.0' '38.77777777777778' '52000.0']\n",
      " ['0.0' '1.7320508075688774' '0.0' '40.0' '63777.77777777778']\n",
      " ['1.0' '-0.5773502691896258' '0.0' '44.0' '72000.0']\n",
      " ['0.0' '-0.5773502691896258' '1.0' '38.0' '61000.0']\n",
      " ['0.0' '-0.5773502691896258' '1.0' '27.0' '48000.0']\n",
      " ['1.0' '-0.5773502691896258' '0.0' '48.0' '79000.0']\n",
      " ['0.0' '1.7320508075688774' '0.0' '50.0' '83000.0']\n",
      " ['1.0' '-0.5773502691896258' '0.0' '35.0' '58000.0']]\n",
      "[['0.0' '1.0' '0.0' '30.0' '54000.0']\n",
      " ['1.0' '-1.0' '0.0' '37.0' '67000.0']]\n"
     ]
    }
   ],
   "source": [
    "from sklearn.preprocessing import StandardScaler\n",
    "sc=StandardScaler()\n",
    "X_train[:,1:2]=sc.fit_transform(X_train[:,1:2])\n",
    "X_test[:,1:2]=sc.fit_transform(X_test[:,1:2])\n",
    "print(X_train)\n",
    "print(X_test)"
   ]
  }
 ],
 "metadata": {
  "kernelspec": {
   "display_name": "Python 3",
   "language": "python",
   "name": "python3"
  },
  "language_info": {
   "codemirror_mode": {
    "name": "ipython",
    "version": 3
   },
   "file_extension": ".py",
   "mimetype": "text/x-python",
   "name": "python",
   "nbconvert_exporter": "python",
   "pygments_lexer": "ipython3",
   "version": "3.10.9"
  },
  "orig_nbformat": 4,
  "vscode": {
   "interpreter": {
    "hash": "da5ba9b1e4d80c17ced86eae83caaac829505613d40fa446cdf3b582c1fec93c"
   }
  }
 },
 "nbformat": 4,
 "nbformat_minor": 2
}
